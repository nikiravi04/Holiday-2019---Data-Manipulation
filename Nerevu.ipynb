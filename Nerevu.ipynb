{
 "cells": [
  {
   "cell_type": "markdown",
   "metadata": {},
   "source": [
    "### 1) Write a Python script that fetches holiday data and saves it as a csv file named \"holidays.csv\".​ To obtain the data, you can either screen scrape the Time and Date​ site, or parse the API (free trial​ account required)."
   ]
  },
  {
   "cell_type": "code",
   "execution_count": 2,
   "metadata": {},
   "outputs": [],
   "source": [
    "import pandas as pd\n",
    "import numpy as np\n",
    "import requests\n",
    "import lxml.html\n",
    "import datetime"
   ]
  },
  {
   "cell_type": "code",
   "execution_count": 3,
   "metadata": {},
   "outputs": [],
   "source": [
    "page = requests.get(\"https://www.timeanddate.com/holidays/us/\")"
   ]
  },
  {
   "cell_type": "code",
   "execution_count": 4,
   "metadata": {},
   "outputs": [],
   "source": [
    "tree = lxml.html.fromstring(page.text)"
   ]
  },
  {
   "cell_type": "code",
   "execution_count": 5,
   "metadata": {},
   "outputs": [
    {
     "data": {
      "text/plain": [
       "402"
      ]
     },
     "execution_count": 5,
     "metadata": {},
     "output_type": "execute_result"
    }
   ],
   "source": [
    "dates = tree.xpath(\"//th/text()\")[5:]\n",
    "len(dates)"
   ]
  },
  {
   "cell_type": "code",
   "execution_count": 6,
   "metadata": {},
   "outputs": [
    {
     "data": {
      "text/plain": [
       "402"
      ]
     },
     "execution_count": 6,
     "metadata": {},
     "output_type": "execute_result"
    }
   ],
   "source": [
    "days = tree.xpath(\"//tr/td[1]/text()\")[:402]\n",
    "len(days)"
   ]
  },
  {
   "cell_type": "code",
   "execution_count": 7,
   "metadata": {},
   "outputs": [
    {
     "data": {
      "text/plain": [
       "402"
      ]
     },
     "execution_count": 7,
     "metadata": {},
     "output_type": "execute_result"
    }
   ],
   "source": [
    "holiday_names = tree.xpath(\"//td/a/text()\")\n",
    "len(holiday_names)"
   ]
  },
  {
   "cell_type": "code",
   "execution_count": 8,
   "metadata": {},
   "outputs": [
    {
     "data": {
      "text/plain": [
       "402"
      ]
     },
     "execution_count": 8,
     "metadata": {},
     "output_type": "execute_result"
    }
   ],
   "source": [
    "holiday_type = tree.xpath(\"//tr/td[3]/text()\")\n",
    "len(holiday_type)"
   ]
  },
  {
   "cell_type": "code",
   "execution_count": 9,
   "metadata": {},
   "outputs": [
    {
     "data": {
      "text/plain": [
       "402"
      ]
     },
     "execution_count": 9,
     "metadata": {},
     "output_type": "execute_result"
    }
   ],
   "source": [
    "t = tree.xpath(\"//tr/td[4]\")\n",
    "details = []\n",
    "for elem in t:\n",
    "    val = elem.xpath('text()')\n",
    "    temp = ''\n",
    "    temp1 = ''\n",
    "    if(len(val)>1):\n",
    "        if(val[0]=='All except '):\n",
    "            temp1 = temp1 + 'All except '\n",
    "            \n",
    "            for x in range(1,len(val)+1):\n",
    "                tt = elem.xpath(\"span[\"+str(x)+\"]/text()\")\n",
    "                temp1 = temp1 + tt[0] + ','\n",
    "            details.append([temp1])\n",
    "        else:\n",
    "            ff = elem.xpath(\"span/text()\")\n",
    "            for x in ff:\n",
    "                temp = temp+x + ','\n",
    "            details.append([temp])       \n",
    "    else:\n",
    "        details.append(val)\n",
    "len(details)"
   ]
  },
  {
   "cell_type": "code",
   "execution_count": 10,
   "metadata": {},
   "outputs": [],
   "source": [
    "holidays_df = pd.DataFrame({'Date': dates,\n",
    "                            'Day': days,\n",
    "                            'Name':holiday_names,\n",
    "                            'Type':holiday_type,\n",
    "                            'Details': details})"
   ]
  },
  {
   "cell_type": "code",
   "execution_count": 11,
   "metadata": {},
   "outputs": [],
   "source": [
    "holidays_df['Details'] = holidays_df['Details'].apply(lambda x: ','.join(map(str, x)))"
   ]
  },
  {
   "cell_type": "code",
   "execution_count": 12,
   "metadata": {},
   "outputs": [
    {
     "data": {
      "text/html": [
       "<div>\n",
       "<style scoped>\n",
       "    .dataframe tbody tr th:only-of-type {\n",
       "        vertical-align: middle;\n",
       "    }\n",
       "\n",
       "    .dataframe tbody tr th {\n",
       "        vertical-align: top;\n",
       "    }\n",
       "\n",
       "    .dataframe thead th {\n",
       "        text-align: right;\n",
       "    }\n",
       "</style>\n",
       "<table border=\"1\" class=\"dataframe\">\n",
       "  <thead>\n",
       "    <tr style=\"text-align: right;\">\n",
       "      <th></th>\n",
       "      <th>Date</th>\n",
       "      <th>Day</th>\n",
       "      <th>Name</th>\n",
       "      <th>Type</th>\n",
       "      <th>Details</th>\n",
       "    </tr>\n",
       "  </thead>\n",
       "  <tbody>\n",
       "    <tr>\n",
       "      <th>0</th>\n",
       "      <td>Jan 1</td>\n",
       "      <td>Tuesday</td>\n",
       "      <td>New Year's Day</td>\n",
       "      <td>Federal Holiday</td>\n",
       "      <td></td>\n",
       "    </tr>\n",
       "    <tr>\n",
       "      <th>1</th>\n",
       "      <td>Jan 4</td>\n",
       "      <td>Friday</td>\n",
       "      <td>World Braille Day</td>\n",
       "      <td>Worldwide observance</td>\n",
       "      <td></td>\n",
       "    </tr>\n",
       "    <tr>\n",
       "      <th>2</th>\n",
       "      <td>Jan 6</td>\n",
       "      <td>Sunday</td>\n",
       "      <td>Epiphany</td>\n",
       "      <td>Christian</td>\n",
       "      <td></td>\n",
       "    </tr>\n",
       "    <tr>\n",
       "      <th>3</th>\n",
       "      <td>Jan 7</td>\n",
       "      <td>Monday</td>\n",
       "      <td>Orthodox Christmas Day</td>\n",
       "      <td>Orthodox</td>\n",
       "      <td></td>\n",
       "    </tr>\n",
       "    <tr>\n",
       "      <th>4</th>\n",
       "      <td>Jan 7</td>\n",
       "      <td>Monday</td>\n",
       "      <td>International Programmers' Day</td>\n",
       "      <td>Worldwide observance</td>\n",
       "      <td></td>\n",
       "    </tr>\n",
       "  </tbody>\n",
       "</table>\n",
       "</div>"
      ],
      "text/plain": [
       "    Date      Day                            Name                  Type  \\\n",
       "0  Jan 1  Tuesday                  New Year's Day       Federal Holiday   \n",
       "1  Jan 4   Friday               World Braille Day  Worldwide observance   \n",
       "2  Jan 6   Sunday                        Epiphany             Christian   \n",
       "3  Jan 7   Monday          Orthodox Christmas Day              Orthodox   \n",
       "4  Jan 7   Monday  International Programmers' Day  Worldwide observance   \n",
       "\n",
       "  Details  \n",
       "0          \n",
       "1          \n",
       "2          \n",
       "3          \n",
       "4          "
      ]
     },
     "execution_count": 12,
     "metadata": {},
     "output_type": "execute_result"
    }
   ],
   "source": [
    "holidays_df.head()"
   ]
  },
  {
   "cell_type": "code",
   "execution_count": 13,
   "metadata": {},
   "outputs": [],
   "source": [
    "holidays_df.to_csv(\"holidays.csv\")"
   ]
  },
  {
   "cell_type": "markdown",
   "metadata": {},
   "source": [
    "### 2) Using the csv file from 1), write a​ Python​ function that returns a list of dictionaries of the next 10 upcoming U.S. holidays and dates. \n",
    "\n",
    "E.g.\n",
    "\n",
    "\n",
    "def holidays​():​\n",
    "\n",
    "    pass\n",
    "\n",
    "\n",
    "\n",
    "holidays​()​\n",
    "\n",
    "[\n",
    "    {\n",
    "        \"name​\": \"Bastille Day​\",\n",
    "        \"date\": \"Sunday, July 14, 2019\",\n",
    "        \"type\": \"Observance\",\n",
    "        \"details​\": \"\"\n",
    "    },\n",
    "    ...\n",
    "]\n",
    "\n"
   ]
  },
  {
   "cell_type": "code",
   "execution_count": 49,
   "metadata": {},
   "outputs": [
    {
     "data": {
      "text/html": [
       "<div>\n",
       "<style scoped>\n",
       "    .dataframe tbody tr th:only-of-type {\n",
       "        vertical-align: middle;\n",
       "    }\n",
       "\n",
       "    .dataframe tbody tr th {\n",
       "        vertical-align: top;\n",
       "    }\n",
       "\n",
       "    .dataframe thead th {\n",
       "        text-align: right;\n",
       "    }\n",
       "</style>\n",
       "<table border=\"1\" class=\"dataframe\">\n",
       "  <thead>\n",
       "    <tr style=\"text-align: right;\">\n",
       "      <th></th>\n",
       "      <th>Unnamed: 0</th>\n",
       "      <th>Date</th>\n",
       "      <th>Day</th>\n",
       "      <th>Name</th>\n",
       "      <th>Type</th>\n",
       "      <th>Details</th>\n",
       "    </tr>\n",
       "  </thead>\n",
       "  <tbody>\n",
       "    <tr>\n",
       "      <th>0</th>\n",
       "      <td>0</td>\n",
       "      <td>Jan 1</td>\n",
       "      <td>Tuesday</td>\n",
       "      <td>New Year's Day</td>\n",
       "      <td>Federal Holiday</td>\n",
       "      <td></td>\n",
       "    </tr>\n",
       "    <tr>\n",
       "      <th>1</th>\n",
       "      <td>1</td>\n",
       "      <td>Jan 4</td>\n",
       "      <td>Friday</td>\n",
       "      <td>World Braille Day</td>\n",
       "      <td>Worldwide observance</td>\n",
       "      <td></td>\n",
       "    </tr>\n",
       "    <tr>\n",
       "      <th>2</th>\n",
       "      <td>2</td>\n",
       "      <td>Jan 6</td>\n",
       "      <td>Sunday</td>\n",
       "      <td>Epiphany</td>\n",
       "      <td>Christian</td>\n",
       "      <td></td>\n",
       "    </tr>\n",
       "    <tr>\n",
       "      <th>3</th>\n",
       "      <td>3</td>\n",
       "      <td>Jan 7</td>\n",
       "      <td>Monday</td>\n",
       "      <td>Orthodox Christmas Day</td>\n",
       "      <td>Orthodox</td>\n",
       "      <td></td>\n",
       "    </tr>\n",
       "    <tr>\n",
       "      <th>4</th>\n",
       "      <td>4</td>\n",
       "      <td>Jan 7</td>\n",
       "      <td>Monday</td>\n",
       "      <td>International Programmers' Day</td>\n",
       "      <td>Worldwide observance</td>\n",
       "      <td></td>\n",
       "    </tr>\n",
       "    <tr>\n",
       "      <th>5</th>\n",
       "      <td>5</td>\n",
       "      <td>Jan 13</td>\n",
       "      <td>Sunday</td>\n",
       "      <td>Stephen Foster Memorial Day</td>\n",
       "      <td>Observance</td>\n",
       "      <td></td>\n",
       "    </tr>\n",
       "    <tr>\n",
       "      <th>6</th>\n",
       "      <td>6</td>\n",
       "      <td>Jan 14</td>\n",
       "      <td>Monday</td>\n",
       "      <td>Orthodox New Year</td>\n",
       "      <td>Orthodox</td>\n",
       "      <td></td>\n",
       "    </tr>\n",
       "    <tr>\n",
       "      <th>7</th>\n",
       "      <td>7</td>\n",
       "      <td>Jan 18</td>\n",
       "      <td>Friday</td>\n",
       "      <td>Lee-Jackson Day</td>\n",
       "      <td>State holiday</td>\n",
       "      <td>Virginia</td>\n",
       "    </tr>\n",
       "    <tr>\n",
       "      <th>8</th>\n",
       "      <td>8</td>\n",
       "      <td>Jan 19</td>\n",
       "      <td>Saturday</td>\n",
       "      <td>Robert E. Lee's Birthday</td>\n",
       "      <td>State holiday</td>\n",
       "      <td>Florida</td>\n",
       "    </tr>\n",
       "    <tr>\n",
       "      <th>9</th>\n",
       "      <td>9</td>\n",
       "      <td>Jan 19</td>\n",
       "      <td>Saturday</td>\n",
       "      <td>Confederate Heroes' Day</td>\n",
       "      <td>State holiday</td>\n",
       "      <td>Texas</td>\n",
       "    </tr>\n",
       "  </tbody>\n",
       "</table>\n",
       "</div>"
      ],
      "text/plain": [
       "   Unnamed: 0    Date       Day                            Name  \\\n",
       "0           0   Jan 1   Tuesday                  New Year's Day   \n",
       "1           1   Jan 4    Friday               World Braille Day   \n",
       "2           2   Jan 6    Sunday                        Epiphany   \n",
       "3           3   Jan 7    Monday          Orthodox Christmas Day   \n",
       "4           4   Jan 7    Monday  International Programmers' Day   \n",
       "5           5  Jan 13    Sunday     Stephen Foster Memorial Day   \n",
       "6           6  Jan 14    Monday               Orthodox New Year   \n",
       "7           7  Jan 18    Friday                 Lee-Jackson Day   \n",
       "8           8  Jan 19  Saturday        Robert E. Lee's Birthday   \n",
       "9           9  Jan 19  Saturday         Confederate Heroes' Day   \n",
       "\n",
       "                   Type   Details  \n",
       "0       Federal Holiday            \n",
       "1  Worldwide observance            \n",
       "2             Christian            \n",
       "3              Orthodox            \n",
       "4  Worldwide observance            \n",
       "5            Observance            \n",
       "6              Orthodox            \n",
       "7         State holiday  Virginia  \n",
       "8         State holiday   Florida  \n",
       "9         State holiday     Texas  "
      ]
     },
     "execution_count": 49,
     "metadata": {},
     "output_type": "execute_result"
    }
   ],
   "source": [
    "holidays = pd.read_csv(\"holidays.csv\")\n",
    "holidays.head(10)"
   ]
  },
  {
   "cell_type": "code",
   "execution_count": 50,
   "metadata": {},
   "outputs": [
    {
     "name": "stdout",
     "output_type": "stream",
     "text": [
      "<class 'pandas.core.frame.DataFrame'>\n",
      "RangeIndex: 402 entries, 0 to 401\n",
      "Data columns (total 6 columns):\n",
      "Unnamed: 0    402 non-null int64\n",
      "Date          402 non-null object\n",
      "Day           402 non-null object\n",
      "Name          402 non-null object\n",
      "Type          402 non-null object\n",
      "Details       395 non-null object\n",
      "dtypes: int64(1), object(5)\n",
      "memory usage: 18.9+ KB\n"
     ]
    }
   ],
   "source": [
    "holidays.info()"
   ]
  },
  {
   "cell_type": "code",
   "execution_count": 51,
   "metadata": {},
   "outputs": [],
   "source": [
    "#remove the - in the Date Column\n",
    "holidays[\"Date\"] = holidays[\"Date\"].str.replace(\"-\",\" \")"
   ]
  },
  {
   "cell_type": "code",
   "execution_count": 52,
   "metadata": {},
   "outputs": [],
   "source": [
    "#Adding a Year column\n",
    "holidays[\"Year\"] = 2019"
   ]
  },
  {
   "cell_type": "code",
   "execution_count": 53,
   "metadata": {},
   "outputs": [],
   "source": [
    "#Splitting the Date column into Month & Day\n",
    "new = holidays[\"Date\"].str.split(\" \", expand = True)\n",
    "holidays[\"Month\"]= new[0] \n",
    "holidays[\"Dates\"]= new[1]\n",
    "holidays.drop(columns =[\"Date\"], inplace = True)"
   ]
  },
  {
   "cell_type": "code",
   "execution_count": 54,
   "metadata": {},
   "outputs": [
    {
     "data": {
      "text/html": [
       "<div>\n",
       "<style scoped>\n",
       "    .dataframe tbody tr th:only-of-type {\n",
       "        vertical-align: middle;\n",
       "    }\n",
       "\n",
       "    .dataframe tbody tr th {\n",
       "        vertical-align: top;\n",
       "    }\n",
       "\n",
       "    .dataframe thead th {\n",
       "        text-align: right;\n",
       "    }\n",
       "</style>\n",
       "<table border=\"1\" class=\"dataframe\">\n",
       "  <thead>\n",
       "    <tr style=\"text-align: right;\">\n",
       "      <th></th>\n",
       "      <th>Unnamed: 0</th>\n",
       "      <th>Day</th>\n",
       "      <th>Name</th>\n",
       "      <th>Type</th>\n",
       "      <th>Details</th>\n",
       "      <th>Year</th>\n",
       "      <th>Month</th>\n",
       "      <th>Dates</th>\n",
       "      <th>FullDate</th>\n",
       "    </tr>\n",
       "  </thead>\n",
       "  <tbody>\n",
       "    <tr>\n",
       "      <th>0</th>\n",
       "      <td>0</td>\n",
       "      <td>Tuesday</td>\n",
       "      <td>New Year's Day</td>\n",
       "      <td>Federal Holiday</td>\n",
       "      <td></td>\n",
       "      <td>2019</td>\n",
       "      <td>Jan</td>\n",
       "      <td>1</td>\n",
       "      <td>2019-01-01</td>\n",
       "    </tr>\n",
       "    <tr>\n",
       "      <th>1</th>\n",
       "      <td>1</td>\n",
       "      <td>Friday</td>\n",
       "      <td>World Braille Day</td>\n",
       "      <td>Worldwide observance</td>\n",
       "      <td></td>\n",
       "      <td>2019</td>\n",
       "      <td>Jan</td>\n",
       "      <td>4</td>\n",
       "      <td>2019-01-04</td>\n",
       "    </tr>\n",
       "    <tr>\n",
       "      <th>2</th>\n",
       "      <td>2</td>\n",
       "      <td>Sunday</td>\n",
       "      <td>Epiphany</td>\n",
       "      <td>Christian</td>\n",
       "      <td></td>\n",
       "      <td>2019</td>\n",
       "      <td>Jan</td>\n",
       "      <td>6</td>\n",
       "      <td>2019-01-06</td>\n",
       "    </tr>\n",
       "    <tr>\n",
       "      <th>3</th>\n",
       "      <td>3</td>\n",
       "      <td>Monday</td>\n",
       "      <td>Orthodox Christmas Day</td>\n",
       "      <td>Orthodox</td>\n",
       "      <td></td>\n",
       "      <td>2019</td>\n",
       "      <td>Jan</td>\n",
       "      <td>7</td>\n",
       "      <td>2019-01-07</td>\n",
       "    </tr>\n",
       "    <tr>\n",
       "      <th>4</th>\n",
       "      <td>4</td>\n",
       "      <td>Monday</td>\n",
       "      <td>International Programmers' Day</td>\n",
       "      <td>Worldwide observance</td>\n",
       "      <td></td>\n",
       "      <td>2019</td>\n",
       "      <td>Jan</td>\n",
       "      <td>7</td>\n",
       "      <td>2019-01-07</td>\n",
       "    </tr>\n",
       "  </tbody>\n",
       "</table>\n",
       "</div>"
      ],
      "text/plain": [
       "   Unnamed: 0      Day                            Name                  Type  \\\n",
       "0           0  Tuesday                  New Year's Day       Federal Holiday   \n",
       "1           1   Friday               World Braille Day  Worldwide observance   \n",
       "2           2   Sunday                        Epiphany             Christian   \n",
       "3           3   Monday          Orthodox Christmas Day              Orthodox   \n",
       "4           4   Monday  International Programmers' Day  Worldwide observance   \n",
       "\n",
       "  Details  Year Month Dates   FullDate  \n",
       "0          2019   Jan     1 2019-01-01  \n",
       "1          2019   Jan     4 2019-01-04  \n",
       "2          2019   Jan     6 2019-01-06  \n",
       "3          2019   Jan     7 2019-01-07  \n",
       "4          2019   Jan     7 2019-01-07  "
      ]
     },
     "execution_count": 54,
     "metadata": {},
     "output_type": "execute_result"
    }
   ],
   "source": [
    "#Converting the Month,Date,Year to One column and converting to Datetime object\n",
    "holidays['FullDate'] = holidays['Dates'].map(str) + '-' + holidays['Month'].map(str) + '-' + holidays['Year'].map(str)\n",
    "holidays['FullDate']= pd.to_datetime(holidays['FullDate'])\n",
    "holidays.head()"
   ]
  },
  {
   "cell_type": "code",
   "execution_count": 20,
   "metadata": {},
   "outputs": [
    {
     "data": {
      "text/plain": [
       "[{'Unnamed: 0': 0,\n",
       "  'Day': 'Tuesday',\n",
       "  'Name': \"New Year's Day\",\n",
       "  'Type': 'Federal Holiday',\n",
       "  'Details': '\\xa0',\n",
       "  'Year': 2019,\n",
       "  'Dates': 'Jan',\n",
       "  'Month': '1',\n",
       "  'FullDate': Timestamp('2019-01-01 00:00:00')},\n",
       " {'Unnamed: 0': 1,\n",
       "  'Day': 'Friday',\n",
       "  'Name': 'World Braille Day',\n",
       "  'Type': 'Worldwide observance',\n",
       "  'Details': '\\xa0',\n",
       "  'Year': 2019,\n",
       "  'Dates': 'Jan',\n",
       "  'Month': '4',\n",
       "  'FullDate': Timestamp('2019-01-04 00:00:00')},\n",
       " {'Unnamed: 0': 2,\n",
       "  'Day': 'Sunday',\n",
       "  'Name': 'Epiphany',\n",
       "  'Type': 'Christian',\n",
       "  'Details': '\\xa0',\n",
       "  'Year': 2019,\n",
       "  'Dates': 'Jan',\n",
       "  'Month': '6',\n",
       "  'FullDate': Timestamp('2019-01-06 00:00:00')},\n",
       " {'Unnamed: 0': 3,\n",
       "  'Day': 'Monday',\n",
       "  'Name': 'Orthodox Christmas Day',\n",
       "  'Type': 'Orthodox',\n",
       "  'Details': '\\xa0',\n",
       "  'Year': 2019,\n",
       "  'Dates': 'Jan',\n",
       "  'Month': '7',\n",
       "  'FullDate': Timestamp('2019-01-07 00:00:00')},\n",
       " {'Unnamed: 0': 4,\n",
       "  'Day': 'Monday',\n",
       "  'Name': \"International Programmers' Day\",\n",
       "  'Type': 'Worldwide observance',\n",
       "  'Details': '\\xa0',\n",
       "  'Year': 2019,\n",
       "  'Dates': 'Jan',\n",
       "  'Month': '7',\n",
       "  'FullDate': Timestamp('2019-01-07 00:00:00')}]"
      ]
     },
     "execution_count": 20,
     "metadata": {},
     "output_type": "execute_result"
    }
   ],
   "source": [
    "#Converting Dataframe to a list of dictionaries based on the records\n",
    "dict_holidays = holidays.to_dict('records')\n",
    "dict_holidays[:5]"
   ]
  },
  {
   "cell_type": "code",
   "execution_count": 21,
   "metadata": {},
   "outputs": [
    {
     "name": "stdout",
     "output_type": "stream",
     "text": [
      "List Of Holidays:\n",
      "\n",
      "\n",
      "\n",
      "[{'Unnamed: 0': 228, 'Day': 'Thursday', 'Name': 'Nelson Mandela Day', 'Type': 'United Nations observance', 'Details': '\\xa0', 'Year': 2019, 'Dates': 'Jul', 'Month': '18', 'FullDate': Timestamp('2019-07-18 00:00:00')}, {'Unnamed: 0': 229, 'Day': 'Wednesday', 'Name': 'Pioneer Day', 'Type': 'State holiday', 'Details': 'Utah', 'Year': 2019, 'Dates': 'Jul', 'Month': '24', 'FullDate': Timestamp('2019-07-24 00:00:00')}, {'Unnamed: 0': 230, 'Day': 'Saturday', 'Name': 'National Korean War Veterans Armistice Day', 'Type': 'Observance', 'Details': '\\xa0', 'Year': 2019, 'Dates': 'Jul', 'Month': '27', 'FullDate': Timestamp('2019-07-27 00:00:00')}, {'Unnamed: 0': 231, 'Day': 'Sunday', 'Name': 'World Hepatitis Day', 'Type': 'United Nations observance', 'Details': '\\xa0', 'Year': 2019, 'Dates': 'Jul', 'Month': '28', 'FullDate': Timestamp('2019-07-28 00:00:00')}, {'Unnamed: 0': 232, 'Day': 'Sunday', 'Name': \"Parents' Day\", 'Type': 'Observance', 'Details': '\\xa0', 'Year': 2019, 'Dates': 'Jul', 'Month': '28', 'FullDate': Timestamp('2019-07-28 00:00:00')}, {'Unnamed: 0': 233, 'Day': 'Tuesday', 'Name': 'International Day of Friendship', 'Type': 'United Nations observance', 'Details': '\\xa0', 'Year': 2019, 'Dates': 'Jul', 'Month': '30', 'FullDate': Timestamp('2019-07-30 00:00:00')}, {'Unnamed: 0': 234, 'Day': 'Tuesday', 'Name': 'World Day against Trafficking in Persons', 'Type': 'United Nations observance', 'Details': '\\xa0', 'Year': 2019, 'Dates': 'Jul', 'Month': '30', 'FullDate': Timestamp('2019-07-30 00:00:00')}, {'Unnamed: 0': 235, 'Day': 'Thursday', 'Name': 'Colorado Day', 'Type': 'Local observance', 'Details': 'Colorado', 'Year': 2019, 'Dates': 'Aug', 'Month': '1', 'FullDate': Timestamp('2019-08-01 00:00:00')}, {'Unnamed: 0': 236, 'Day': 'Sunday', 'Name': 'Coast Guard Birthday', 'Type': 'Observance', 'Details': '\\xa0', 'Year': 2019, 'Dates': 'Aug', 'Month': '4', 'FullDate': Timestamp('2019-08-04 00:00:00')}, {'Unnamed: 0': 237, 'Day': 'Wednesday', 'Name': 'Purple Heart Day', 'Type': 'Observance', 'Details': '\\xa0', 'Year': 2019, 'Dates': 'Aug', 'Month': '7', 'FullDate': Timestamp('2019-08-07 00:00:00')}]\n"
     ]
    }
   ],
   "source": [
    "def holiday_10():\n",
    "    hols_list = []\n",
    "    curr_date = datetime.datetime.today()\n",
    "    print(\"List Of Holidays:\\n\")\n",
    "    for hols in dict_holidays:\n",
    "        if(curr_date <= hols['FullDate']):\n",
    "            hols_list.append(hols)\n",
    "              \n",
    "    sorted_hols = sorted(hols_list, key=lambda x: x['FullDate'])\n",
    "    print(\"\\n\")\n",
    "    print(sorted_hols[:10]) \n",
    "        \n",
    "holiday_10()"
   ]
  },
  {
   "cell_type": "markdown",
   "metadata": {},
   "source": [
    "### 3) Add a keyword argument \"holidayType​\"​ to the function from 2) such that it only returns holidays matching the given type, \n",
    "\n",
    "e.g., \n",
    "\n",
    "\n",
    "def holidays​(holidayType​​=None​):​\n",
    "\n",
    "    pass\n",
    "\n",
    "holidays​​(holidayType​​​=\"federal\")    \n",
    "\n",
    "[\n",
    "   {\n",
    "       \"name​\": \"Labor​ Day​\",\n",
    "       \"date\": \"Monday​, September 2, 2019\",\n",
    "       \"type\": \"Federal Holiday​\",\n",
    "       \"details​\": \"\"\n",
    "   },\n",
    "   ...\n",
    "]"
   ]
  },
  {
   "cell_type": "code",
   "execution_count": 47,
   "metadata": {},
   "outputs": [
    {
     "name": "stdout",
     "output_type": "stream",
     "text": [
      "List Of Holidays:\n",
      "\n",
      "\n",
      "\n",
      "[{'Unnamed: 0': 259, 'Day': 'Monday', 'Name': 'Labor Day', 'Type': 'Federal Holiday', 'Details': '\\xa0', 'Year': 2019, 'Dates': 'Sep', 'Month': '2', 'FullDate': Timestamp('2019-09-02 00:00:00')}, {'Unnamed: 0': 312, 'Day': 'Monday', 'Name': 'Columbus Day', 'Type': 'Federal Holiday', 'Details': 'All except AK,AR,CA,DE,FL,HI,MI,MN,ND,NM,NV,OR,SD,TX,VT,WA,WY,', 'Year': 2019, 'Dates': 'Oct', 'Month': '14', 'FullDate': Timestamp('2019-10-14 00:00:00')}, {'Unnamed: 0': 343, 'Day': 'Monday', 'Name': 'Veterans Day', 'Type': 'Federal Holiday', 'Details': '\\xa0', 'Year': 2019, 'Dates': 'Nov', 'Month': '11', 'FullDate': Timestamp('2019-11-11 00:00:00')}, {'Unnamed: 0': 356, 'Day': 'Thursday', 'Name': 'Thanksgiving Day', 'Type': 'Federal Holiday', 'Details': '\\xa0', 'Year': 2019, 'Dates': 'Nov', 'Month': '28', 'FullDate': Timestamp('2019-11-28 00:00:00')}, {'Unnamed: 0': 396, 'Day': 'Wednesday', 'Name': 'Christmas Day', 'Type': 'Federal Holiday', 'Details': '\\xa0', 'Year': 2019, 'Dates': 'Dec', 'Month': '25', 'FullDate': Timestamp('2019-12-25 00:00:00')}]\n"
     ]
    }
   ],
   "source": [
    "def holiday_type_func(holiday_type=None):\n",
    "    hols_list = []\n",
    "    curr_date = datetime.datetime.today()\n",
    "    print(\"List Of Holidays:\\n\")\n",
    "    for hols in dict_holidays:\n",
    "        if(curr_date <= hols['FullDate']):\n",
    "            if(hols['Type'] == holiday_type):\n",
    "                hols_list.append(hols)\n",
    "            elif(hols['Type'] == holiday_type):\n",
    "                hols_list.append(hols)\n",
    "              \n",
    "    sorted_hols = sorted(hols_list, key=lambda x: x['FullDate'])\n",
    "    print(\"\\n\")\n",
    "    print(sorted_hols) \n",
    "    return\n",
    "\n",
    "holiday_type_func(\"Federal Holiday\")"
   ]
  },
  {
   "cell_type": "code",
   "execution_count": null,
   "metadata": {},
   "outputs": [],
   "source": []
  }
 ],
 "metadata": {
  "kernelspec": {
   "display_name": "Python 3",
   "language": "python",
   "name": "python3"
  },
  "language_info": {
   "codemirror_mode": {
    "name": "ipython",
    "version": 3
   },
   "file_extension": ".py",
   "mimetype": "text/x-python",
   "name": "python",
   "nbconvert_exporter": "python",
   "pygments_lexer": "ipython3",
   "version": "3.6.8"
  }
 },
 "nbformat": 4,
 "nbformat_minor": 2
}
